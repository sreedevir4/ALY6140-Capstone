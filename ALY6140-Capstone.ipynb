{
 "cells": [
  {
   "cell_type": "code",
   "execution_count": null,
   "id": "14f5e9a2",
   "metadata": {},
   "outputs": [],
   "source": [
    "import pandas as pd\n",
    "import bamboolib as bam\n",
    "import csv\n",
    "import requests\n",
    "from capstonefunc import api\n",
    "\n",
    "if __name__ == '__main__':\n",
    "    crime = api('https://data.boston.gov/api/3/action/datastore_search?resource_id=b973d8cb-eeb2-4e7e-99da-c92938efc9c0&limit=100000')\n",
    "    print(crime.dtypes)\n",
    "    crime[['SHOOTING', 'OFFENSE_CODE','MONTH','HOUR','YEAR','INCIDENT_NUMBER']] = crime[['SHOOTING', 'OFFENSE_CODE','MONTH','HOUR','YEAR','INCIDENT_NUMBER']].astype({'SHOOTING' : int, 'OFFENSE_CODE': int,'MONTH' : int,'HOUR': int,'YEAR' : int,'INCIDENT_NUMBER': int})\n",
    "    crime[['Lat', 'Long','OFFENSE_CODE_GROUP','UCR_PART']] = crime[['Lat', 'Long','OFFENSE_CODE_GROUP','UCR_PART']].astype({'Lat' : float, 'Long' : float,'OFFENSE_CODE_GROUP': float,'UCR_PART': float})\n",
    "    print(crime.dtypes)\n"
   ]
  },
  {
   "cell_type": "code",
   "execution_count": null,
   "id": "579a359e",
   "metadata": {},
   "outputs": [],
   "source": [
    "data_url = 'https://data.boston.gov/dataset/6220d948-eae2-4e4b-8723-2dc8e67722a3/resource/b973d8cb-eeb2-4e7e-99da-c92938efc9c0/download/tmpomwevvy8.csv'\n",
    "crime1 = pd.read_csv(data_url, header=0)\n",
    "crime1"
   ]
  },
  {
   "cell_type": "code",
   "execution_count": null,
   "id": "b068a62b",
   "metadata": {},
   "outputs": [],
   "source": [
    "crime"
   ]
  },
  {
   "cell_type": "code",
   "execution_count": null,
   "id": "4f3ae76d",
   "metadata": {},
   "outputs": [],
   "source": [
    "crime.columns"
   ]
  },
  {
   "cell_type": "code",
   "execution_count": 61,
   "id": "f680c876",
   "metadata": {},
   "outputs": [],
   "source": [
    "crime = crime.drop(columns=['OFFENSE_CODE_GROUP','UCR_PART','_id'])"
   ]
  },
  {
   "cell_type": "code",
   "execution_count": 62,
   "id": "d9650ea6",
   "metadata": {},
   "outputs": [
    {
     "data": {
      "application/vnd.jupyter.widget-view+json": {
       "model_id": "7854108dd95f49c29fc32d35f956baff"
      },
      "text/plain": [
       "                                                  STREET  \\\n",
       "0                                              CENTRE ST   \n",
       "1                                          WASHINGTON ST   \n",
       "2                                             SUDBURY ST   \n",
       "3                                              GIBSON ST   \n",
       "4                                              GIBSON ST   \n",
       "...                                                  ...   \n",
       "15682                                        BISMARCK ST   \n",
       "15683                                     NEW SUDBURY ST   \n",
       "15684  CASTLE CT & E BERKELEY ST\\nBOSTON  MA 02118\\nU...   \n",
       "15685  TREMONT ST & OAK ST W\\nBOSTON  MA 02116\\nUNITE...   \n",
       "15686                                          SCHOOL ST   \n",
       "\n",
       "                         OFFENSE_DESCRIPTION  SHOOTING  OFFENSE_CODE DISTRICT  \\\n",
       "0            HARASSMENT/ CRIMINAL HARASSMENT         0          2670       E5   \n",
       "1            FRAUD - CREDIT CARD / ATM FRAUD         0          1106      E13   \n",
       "2                         INVESTIGATE PERSON         0          3115       A1   \n",
       "3                           PROPERTY - FOUND         0          3207      C11   \n",
       "4                           PROPERTY - FOUND         0          3207      C11   \n",
       "...                                      ...       ...           ...      ...   \n",
       "15682                     INVESTIGATE PERSON         0          3115      E18   \n",
       "15683          SICK/INJURED/MEDICAL - PERSON         0          3006       A1   \n",
       "15684     SICK ASSIST - DRUG RELATED ILLNESS         0          1832       D4   \n",
       "15685  M/V - LEAVING SCENE - PROPERTY DAMAGE         0          3831       A1   \n",
       "15686                     INVESTIGATE PERSON         0          3115      E13   \n",
       "\n",
       "      REPORTING_AREA        OCCURRED_ON_DATE DAY_OF_WEEK  MONTH  HOUR  \\\n",
       "0                691  2023-01-01 00:00:00+00      Sunday      1     0   \n",
       "1                574  2023-01-01 00:00:00+00      Sunday      1     0   \n",
       "2                 77  2023-01-01 07:30:00+00      Sunday      1     7   \n",
       "3                355  2023-01-01 08:00:00+00      Sunday      1     8   \n",
       "4                355  2023-01-01 08:00:00+00      Sunday      1     8   \n",
       "...              ...                     ...         ...    ...   ...   \n",
       "15682                 2023-02-05 01:17:00+00      Sunday      2     1   \n",
       "15683             77  2023-02-05 01:30:00+00      Sunday      2     1   \n",
       "15684                 2023-02-05 01:51:00+00      Sunday      2     1   \n",
       "15685                 2023-02-05 02:10:00+00      Sunday      2     2   \n",
       "15686                 2023-02-05 03:05:00+00      Sunday      2     3   \n",
       "\n",
       "            Long  YEAR        Lat  INCIDENT_NUMBER  \\\n",
       "0     -71.148221  2023  42.287094        232014572   \n",
       "1     -71.104294  2023  42.309719        232010316   \n",
       "2            NaN  2023        NaN        232020806   \n",
       "3     -71.059709  2023  42.297555        232016999   \n",
       "4     -71.059709  2023  42.297555        232017000   \n",
       "...          ...   ...        ...              ...   \n",
       "15682 -71.100034  2023  42.269835        232009411   \n",
       "15683 -71.059765  2023  42.361839        232009427   \n",
       "15684 -71.068057  2023  42.344666        232009415   \n",
       "15685 -71.065540  2023  42.348630        232009421   \n",
       "15686 -71.098584  2023  42.313974        232009424   \n",
       "\n",
       "                                       Location  \n",
       "0       (42.28709355259107, -71.14822128377165)  \n",
       "1       (42.30971856767274, -71.10429431787648)  \n",
       "2                                          None  \n",
       "3       (42.29755532959655, -71.05970910242573)  \n",
       "4       (42.29755532959655, -71.05970910242573)  \n",
       "...                                         ...  \n",
       "15682    (42.2698345812142, -71.10003437244237)  \n",
       "15683  (42.361838566564714, -71.05976489094158)  \n",
       "15684  (42.344665952857355, -71.06805696362068)  \n",
       "15685   (42.34863000132126, -71.06554001376465)  \n",
       "15686   (42.31397418225611, -71.09858374923103)  \n",
       "\n",
       "[15687 rows x 15 columns]"
      ]
     },
     "metadata": {},
     "output_type": "display_data"
    }
   ],
   "source": [
    "crime"
   ]
  },
  {
   "cell_type": "code",
   "execution_count": 63,
   "id": "99d9d607",
   "metadata": {},
   "outputs": [],
   "source": [
    "mode = crime['DISTRICT'].mode()[0]\n",
    "crime['DISTRICT'] = crime['DISTRICT'].fillna(mode)"
   ]
  },
  {
   "cell_type": "code",
   "execution_count": 64,
   "id": "32b2dcee",
   "metadata": {},
   "outputs": [],
   "source": [
    "district_means = crime.groupby('DISTRICT')[['Lat', 'Long']].mean()\n",
    "crime[['Lat', 'Long']] = crime.groupby('DISTRICT')[['Lat', 'Long']].transform(lambda x: x.fillna(x.mean()))\n"
   ]
  },
  {
   "cell_type": "code",
   "execution_count": 65,
   "id": "820d6f14",
   "metadata": {},
   "outputs": [
    {
     "data": {
      "application/vnd.jupyter.widget-view+json": {
       "model_id": "aa092301357b4a7ab075481b6b5c31ef"
      },
      "text/plain": [
       "                                                  STREET  \\\n",
       "0                                              CENTRE ST   \n",
       "1                                          WASHINGTON ST   \n",
       "2                                             SUDBURY ST   \n",
       "3                                              GIBSON ST   \n",
       "4                                              GIBSON ST   \n",
       "...                                                  ...   \n",
       "15682                                        BISMARCK ST   \n",
       "15683                                     NEW SUDBURY ST   \n",
       "15684  CASTLE CT & E BERKELEY ST\\nBOSTON  MA 02118\\nU...   \n",
       "15685  TREMONT ST & OAK ST W\\nBOSTON  MA 02116\\nUNITE...   \n",
       "15686                                          SCHOOL ST   \n",
       "\n",
       "                         OFFENSE_DESCRIPTION  SHOOTING  OFFENSE_CODE DISTRICT  \\\n",
       "0            HARASSMENT/ CRIMINAL HARASSMENT         0          2670       E5   \n",
       "1            FRAUD - CREDIT CARD / ATM FRAUD         0          1106      E13   \n",
       "2                         INVESTIGATE PERSON         0          3115       A1   \n",
       "3                           PROPERTY - FOUND         0          3207      C11   \n",
       "4                           PROPERTY - FOUND         0          3207      C11   \n",
       "...                                      ...       ...           ...      ...   \n",
       "15682                     INVESTIGATE PERSON         0          3115      E18   \n",
       "15683          SICK/INJURED/MEDICAL - PERSON         0          3006       A1   \n",
       "15684     SICK ASSIST - DRUG RELATED ILLNESS         0          1832       D4   \n",
       "15685  M/V - LEAVING SCENE - PROPERTY DAMAGE         0          3831       A1   \n",
       "15686                     INVESTIGATE PERSON         0          3115      E13   \n",
       "\n",
       "      REPORTING_AREA        OCCURRED_ON_DATE DAY_OF_WEEK  MONTH  HOUR  \\\n",
       "0                691  2023-01-01 00:00:00+00      Sunday      1     0   \n",
       "1                574  2023-01-01 00:00:00+00      Sunday      1     0   \n",
       "2                 77  2023-01-01 07:30:00+00      Sunday      1     7   \n",
       "3                355  2023-01-01 08:00:00+00      Sunday      1     8   \n",
       "4                355  2023-01-01 08:00:00+00      Sunday      1     8   \n",
       "...              ...                     ...         ...    ...   ...   \n",
       "15682                 2023-02-05 01:17:00+00      Sunday      2     1   \n",
       "15683             77  2023-02-05 01:30:00+00      Sunday      2     1   \n",
       "15684                 2023-02-05 01:51:00+00      Sunday      2     1   \n",
       "15685                 2023-02-05 02:10:00+00      Sunday      2     2   \n",
       "15686                 2023-02-05 03:05:00+00      Sunday      2     3   \n",
       "\n",
       "            Long  YEAR        Lat  INCIDENT_NUMBER  \\\n",
       "0     -71.148221  2023  42.287094        232014572   \n",
       "1     -71.104294  2023  42.309719        232010316   \n",
       "2     -71.060870  2023  42.357869        232020806   \n",
       "3     -71.059709  2023  42.297555        232016999   \n",
       "4     -71.059709  2023  42.297555        232017000   \n",
       "...          ...   ...        ...              ...   \n",
       "15682 -71.100034  2023  42.269835        232009411   \n",
       "15683 -71.059765  2023  42.361839        232009427   \n",
       "15684 -71.068057  2023  42.344666        232009415   \n",
       "15685 -71.065540  2023  42.348630        232009421   \n",
       "15686 -71.098584  2023  42.313974        232009424   \n",
       "\n",
       "                                       Location  \n",
       "0       (42.28709355259107, -71.14822128377165)  \n",
       "1       (42.30971856767274, -71.10429431787648)  \n",
       "2                                          None  \n",
       "3       (42.29755532959655, -71.05970910242573)  \n",
       "4       (42.29755532959655, -71.05970910242573)  \n",
       "...                                         ...  \n",
       "15682    (42.2698345812142, -71.10003437244237)  \n",
       "15683  (42.361838566564714, -71.05976489094158)  \n",
       "15684  (42.344665952857355, -71.06805696362068)  \n",
       "15685   (42.34863000132126, -71.06554001376465)  \n",
       "15686   (42.31397418225611, -71.09858374923103)  \n",
       "\n",
       "[15687 rows x 15 columns]"
      ]
     },
     "metadata": {},
     "output_type": "display_data"
    }
   ],
   "source": [
    "crime"
   ]
  },
  {
   "cell_type": "code",
   "execution_count": null,
   "id": "8376c028",
   "metadata": {},
   "outputs": [],
   "source": [
    "df['Location'] = df.apply(lambda row: f'({row[\"Lat\"]}, {row[\"Long\"]})' if pd.isna(row[\"Location\"]) else row[\"Location\"], axis=1)\n"
   ]
  }
 ],
 "metadata": {
  "kernelspec": {
   "display_name": "Python 3 (ipykernel)",
   "language": "python",
   "name": "python3"
  },
  "language_info": {
   "codemirror_mode": {
    "name": "ipython",
    "version": 3
   },
   "file_extension": ".py",
   "mimetype": "text/x-python",
   "name": "python",
   "nbconvert_exporter": "python",
   "pygments_lexer": "ipython3",
   "version": "3.9.13"
  }
 },
 "nbformat": 4,
 "nbformat_minor": 5
}
