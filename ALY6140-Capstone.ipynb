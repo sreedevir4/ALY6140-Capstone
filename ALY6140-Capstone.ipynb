{
 "cells": [
  {
   "cell_type": "code",
   "execution_count": 1,
   "id": "4423400b",
   "metadata": {},
   "outputs": [],
   "source": [
    "# IMPORT NECESSARY LIBRARIES AND DATA\n",
    "import pandas as pd\n",
    "import numpy as np\n",
    "import bamboolib as bam #easy to do data manipulation and highly recommend going to https://bamboolib.8080labs.com/ and that will help you follow along"
   ]
  },
  {
   "cell_type": "code",
   "execution_count": 2,
   "id": "579a359e",
   "metadata": {},
   "outputs": [],
   "source": [
    "data_url = 'https://data.boston.gov/dataset/6220d948-eae2-4e4b-8723-2dc8e67722a3/resource/b973d8cb-eeb2-4e7e-99da-c92938efc9c0/download/tmpomwevvy8.csv'\n",
    "crime = pd.read_csv(data_url, header=0)\n"
   ]
  },
  {
   "cell_type": "code",
   "execution_count": 11,
   "id": "b068a62b",
   "metadata": {},
   "outputs": [
    {
     "data": {
      "application/vnd.jupyter.widget-view+json": {
       "model_id": "d9088bb248774731b23444b0d6f8e786"
      },
      "text/plain": [
       "       INCIDENT_NUMBER  OFFENSE_CODE                    OFFENSE_DESCRIPTION  \\\n",
       "0            232010316          1106        FRAUD - CREDIT CARD / ATM FRAUD   \n",
       "1            232014572          2670        HARASSMENT/ CRIMINAL HARASSMENT   \n",
       "2            232016999          3207                       PROPERTY - FOUND   \n",
       "3            232017000          3207                       PROPERTY - FOUND   \n",
       "4            232011980          1109                           FRAUD - WIRE   \n",
       "...                ...           ...                                    ...   \n",
       "14522        232009411          3115                     INVESTIGATE PERSON   \n",
       "14523        232009427          3006          SICK/INJURED/MEDICAL - PERSON   \n",
       "14524        232009415          1832     SICK ASSIST - DRUG RELATED ILLNESS   \n",
       "14525        232009421          3831  M/V - LEAVING SCENE - PROPERTY DAMAGE   \n",
       "14526        232009424          3115                     INVESTIGATE PERSON   \n",
       "\n",
       "      DISTRICT REPORTING_AREA  SHOOTING        OCCURRED_ON_DATE  YEAR  MONTH  \\\n",
       "0          E13            574         0  2023-01-01 00:00:00+00  2023      1   \n",
       "1           E5            691         0  2023-01-01 00:00:00+00  2023      1   \n",
       "2          C11            355         0  2023-01-01 08:00:00+00  2023      1   \n",
       "3          C11            355         0  2023-01-01 08:00:00+00  2023      1   \n",
       "4          C11            355         0  2023-01-01 00:00:00+00  2023      1   \n",
       "...        ...            ...       ...                     ...   ...    ...   \n",
       "14522      E18                        0  2023-02-05 01:17:00+00  2023      2   \n",
       "14523       A1             77         0  2023-02-05 01:30:00+00  2023      2   \n",
       "14524       D4                        0  2023-02-05 01:51:00+00  2023      2   \n",
       "14525       A1                        0  2023-02-05 02:10:00+00  2023      2   \n",
       "14526      E13                        0  2023-02-05 03:05:00+00  2023      2   \n",
       "\n",
       "      DAY_OF_WEEK  HOUR                                             STREET  \\\n",
       "0          Sunday     0                                      WASHINGTON ST   \n",
       "1          Sunday     0                                          CENTRE ST   \n",
       "2          Sunday     8                                          GIBSON ST   \n",
       "3          Sunday     8                                          GIBSON ST   \n",
       "4          Sunday     0                                          GIBSON ST   \n",
       "...           ...   ...                                                ...   \n",
       "14522      Sunday     1                                        BISMARCK ST   \n",
       "14523      Sunday     1                                     NEW SUDBURY ST   \n",
       "14524      Sunday     1  CASTLE CT & E BERKELEY ST\\nBOSTON  MA 02118\\nU...   \n",
       "14525      Sunday     2  TREMONT ST & OAK ST W\\nBOSTON  MA 02116\\nUNITE...   \n",
       "14526      Sunday     3                                          SCHOOL ST   \n",
       "\n",
       "             Lat       Long                                  Location  \n",
       "0      42.309719 -71.104294   (42.30971856767274, -71.10429431787648)  \n",
       "1      42.287094 -71.148221   (42.28709355259107, -71.14822128377165)  \n",
       "2      42.297555 -71.059709   (42.29755532959655, -71.05970910242573)  \n",
       "3      42.297555 -71.059709   (42.29755532959655, -71.05970910242573)  \n",
       "4      42.297555 -71.059709   (42.29755532959655, -71.05970910242573)  \n",
       "...          ...        ...                                       ...  \n",
       "14522  42.269835 -71.100034    (42.2698345812142, -71.10003437244237)  \n",
       "14523  42.361839 -71.059765  (42.361838566564714, -71.05976489094158)  \n",
       "14524  42.344666 -71.068057  (42.344665952857355, -71.06805696362068)  \n",
       "14525  42.348630 -71.065540   (42.34863000132126, -71.06554001376465)  \n",
       "14526  42.313974 -71.098584   (42.31397418225611, -71.09858374923103)  \n",
       "\n",
       "[14527 rows x 15 columns]"
      ]
     },
     "metadata": {},
     "output_type": "display_data"
    }
   ],
   "source": [
    "crime"
   ]
  },
  {
   "cell_type": "code",
   "execution_count": 3,
   "id": "4f3ae76d",
   "metadata": {},
   "outputs": [
    {
     "data": {
      "text/plain": [
       "Index(['INCIDENT_NUMBER', 'OFFENSE_CODE', 'OFFENSE_CODE_GROUP',\n",
       "       'OFFENSE_DESCRIPTION', 'DISTRICT', 'REPORTING_AREA', 'SHOOTING',\n",
       "       'OCCURRED_ON_DATE', 'YEAR', 'MONTH', 'DAY_OF_WEEK', 'HOUR', 'UCR_PART',\n",
       "       'STREET', 'Lat', 'Long', 'Location'],\n",
       "      dtype='object')"
      ]
     },
     "execution_count": 3,
     "metadata": {},
     "output_type": "execute_result"
    }
   ],
   "source": [
    "crime.columns"
   ]
  },
  {
   "cell_type": "code",
   "execution_count": 5,
   "id": "f680c876",
   "metadata": {},
   "outputs": [
    {
     "ename": "KeyError",
     "evalue": "\"['OFFENSE_CODE_GROUP', 'UCR_PART'] not found in axis\"",
     "output_type": "error",
     "traceback": [
      "\u001b[1;31m---------------------------------------------------------------------------\u001b[0m",
      "\u001b[1;31mKeyError\u001b[0m                                  Traceback (most recent call last)",
      "\u001b[1;32m~\\AppData\\Local\\Temp\\ipykernel_3260\\3119919149.py\u001b[0m in \u001b[0;36m<module>\u001b[1;34m\u001b[0m\n\u001b[1;32m----> 1\u001b[1;33m \u001b[0mcrime\u001b[0m \u001b[1;33m=\u001b[0m \u001b[0mcrime\u001b[0m\u001b[1;33m.\u001b[0m\u001b[0mdrop\u001b[0m\u001b[1;33m(\u001b[0m\u001b[0mcolumns\u001b[0m\u001b[1;33m=\u001b[0m\u001b[1;33m[\u001b[0m\u001b[1;34m'OFFENSE_CODE_GROUP'\u001b[0m\u001b[1;33m,\u001b[0m\u001b[1;34m'UCR_PART'\u001b[0m\u001b[1;33m]\u001b[0m\u001b[1;33m)\u001b[0m\u001b[1;33m\u001b[0m\u001b[1;33m\u001b[0m\u001b[0m\n\u001b[0m",
      "\u001b[1;32m~\\anaconda3\\lib\\site-packages\\pandas\\util\\_decorators.py\u001b[0m in \u001b[0;36mwrapper\u001b[1;34m(*args, **kwargs)\u001b[0m\n\u001b[0;32m    309\u001b[0m                     \u001b[0mstacklevel\u001b[0m\u001b[1;33m=\u001b[0m\u001b[0mstacklevel\u001b[0m\u001b[1;33m,\u001b[0m\u001b[1;33m\u001b[0m\u001b[1;33m\u001b[0m\u001b[0m\n\u001b[0;32m    310\u001b[0m                 )\n\u001b[1;32m--> 311\u001b[1;33m             \u001b[1;32mreturn\u001b[0m \u001b[0mfunc\u001b[0m\u001b[1;33m(\u001b[0m\u001b[1;33m*\u001b[0m\u001b[0margs\u001b[0m\u001b[1;33m,\u001b[0m \u001b[1;33m**\u001b[0m\u001b[0mkwargs\u001b[0m\u001b[1;33m)\u001b[0m\u001b[1;33m\u001b[0m\u001b[1;33m\u001b[0m\u001b[0m\n\u001b[0m\u001b[0;32m    312\u001b[0m \u001b[1;33m\u001b[0m\u001b[0m\n\u001b[0;32m    313\u001b[0m         \u001b[1;32mreturn\u001b[0m \u001b[0mwrapper\u001b[0m\u001b[1;33m\u001b[0m\u001b[1;33m\u001b[0m\u001b[0m\n",
      "\u001b[1;32m~\\anaconda3\\lib\\site-packages\\pandas\\core\\frame.py\u001b[0m in \u001b[0;36mdrop\u001b[1;34m(self, labels, axis, index, columns, level, inplace, errors)\u001b[0m\n\u001b[0;32m   4955\u001b[0m                 \u001b[0mweight\u001b[0m  \u001b[1;36m1.0\u001b[0m     \u001b[1;36m0.8\u001b[0m\u001b[1;33m\u001b[0m\u001b[1;33m\u001b[0m\u001b[0m\n\u001b[0;32m   4956\u001b[0m         \"\"\"\n\u001b[1;32m-> 4957\u001b[1;33m         return super().drop(\n\u001b[0m\u001b[0;32m   4958\u001b[0m             \u001b[0mlabels\u001b[0m\u001b[1;33m=\u001b[0m\u001b[0mlabels\u001b[0m\u001b[1;33m,\u001b[0m\u001b[1;33m\u001b[0m\u001b[1;33m\u001b[0m\u001b[0m\n\u001b[0;32m   4959\u001b[0m             \u001b[0maxis\u001b[0m\u001b[1;33m=\u001b[0m\u001b[0maxis\u001b[0m\u001b[1;33m,\u001b[0m\u001b[1;33m\u001b[0m\u001b[1;33m\u001b[0m\u001b[0m\n",
      "\u001b[1;32m~\\anaconda3\\lib\\site-packages\\pandas\\core\\generic.py\u001b[0m in \u001b[0;36mdrop\u001b[1;34m(self, labels, axis, index, columns, level, inplace, errors)\u001b[0m\n\u001b[0;32m   4265\u001b[0m         \u001b[1;32mfor\u001b[0m \u001b[0maxis\u001b[0m\u001b[1;33m,\u001b[0m \u001b[0mlabels\u001b[0m \u001b[1;32min\u001b[0m \u001b[0maxes\u001b[0m\u001b[1;33m.\u001b[0m\u001b[0mitems\u001b[0m\u001b[1;33m(\u001b[0m\u001b[1;33m)\u001b[0m\u001b[1;33m:\u001b[0m\u001b[1;33m\u001b[0m\u001b[1;33m\u001b[0m\u001b[0m\n\u001b[0;32m   4266\u001b[0m             \u001b[1;32mif\u001b[0m \u001b[0mlabels\u001b[0m \u001b[1;32mis\u001b[0m \u001b[1;32mnot\u001b[0m \u001b[1;32mNone\u001b[0m\u001b[1;33m:\u001b[0m\u001b[1;33m\u001b[0m\u001b[1;33m\u001b[0m\u001b[0m\n\u001b[1;32m-> 4267\u001b[1;33m                 \u001b[0mobj\u001b[0m \u001b[1;33m=\u001b[0m \u001b[0mobj\u001b[0m\u001b[1;33m.\u001b[0m\u001b[0m_drop_axis\u001b[0m\u001b[1;33m(\u001b[0m\u001b[0mlabels\u001b[0m\u001b[1;33m,\u001b[0m \u001b[0maxis\u001b[0m\u001b[1;33m,\u001b[0m \u001b[0mlevel\u001b[0m\u001b[1;33m=\u001b[0m\u001b[0mlevel\u001b[0m\u001b[1;33m,\u001b[0m \u001b[0merrors\u001b[0m\u001b[1;33m=\u001b[0m\u001b[0merrors\u001b[0m\u001b[1;33m)\u001b[0m\u001b[1;33m\u001b[0m\u001b[1;33m\u001b[0m\u001b[0m\n\u001b[0m\u001b[0;32m   4268\u001b[0m \u001b[1;33m\u001b[0m\u001b[0m\n\u001b[0;32m   4269\u001b[0m         \u001b[1;32mif\u001b[0m \u001b[0minplace\u001b[0m\u001b[1;33m:\u001b[0m\u001b[1;33m\u001b[0m\u001b[1;33m\u001b[0m\u001b[0m\n",
      "\u001b[1;32m~\\anaconda3\\lib\\site-packages\\pandas\\core\\generic.py\u001b[0m in \u001b[0;36m_drop_axis\u001b[1;34m(self, labels, axis, level, errors, consolidate, only_slice)\u001b[0m\n\u001b[0;32m   4309\u001b[0m                 \u001b[0mnew_axis\u001b[0m \u001b[1;33m=\u001b[0m \u001b[0maxis\u001b[0m\u001b[1;33m.\u001b[0m\u001b[0mdrop\u001b[0m\u001b[1;33m(\u001b[0m\u001b[0mlabels\u001b[0m\u001b[1;33m,\u001b[0m \u001b[0mlevel\u001b[0m\u001b[1;33m=\u001b[0m\u001b[0mlevel\u001b[0m\u001b[1;33m,\u001b[0m \u001b[0merrors\u001b[0m\u001b[1;33m=\u001b[0m\u001b[0merrors\u001b[0m\u001b[1;33m)\u001b[0m\u001b[1;33m\u001b[0m\u001b[1;33m\u001b[0m\u001b[0m\n\u001b[0;32m   4310\u001b[0m             \u001b[1;32melse\u001b[0m\u001b[1;33m:\u001b[0m\u001b[1;33m\u001b[0m\u001b[1;33m\u001b[0m\u001b[0m\n\u001b[1;32m-> 4311\u001b[1;33m                 \u001b[0mnew_axis\u001b[0m \u001b[1;33m=\u001b[0m \u001b[0maxis\u001b[0m\u001b[1;33m.\u001b[0m\u001b[0mdrop\u001b[0m\u001b[1;33m(\u001b[0m\u001b[0mlabels\u001b[0m\u001b[1;33m,\u001b[0m \u001b[0merrors\u001b[0m\u001b[1;33m=\u001b[0m\u001b[0merrors\u001b[0m\u001b[1;33m)\u001b[0m\u001b[1;33m\u001b[0m\u001b[1;33m\u001b[0m\u001b[0m\n\u001b[0m\u001b[0;32m   4312\u001b[0m             \u001b[0mindexer\u001b[0m \u001b[1;33m=\u001b[0m \u001b[0maxis\u001b[0m\u001b[1;33m.\u001b[0m\u001b[0mget_indexer\u001b[0m\u001b[1;33m(\u001b[0m\u001b[0mnew_axis\u001b[0m\u001b[1;33m)\u001b[0m\u001b[1;33m\u001b[0m\u001b[1;33m\u001b[0m\u001b[0m\n\u001b[0;32m   4313\u001b[0m \u001b[1;33m\u001b[0m\u001b[0m\n",
      "\u001b[1;32m~\\anaconda3\\lib\\site-packages\\pandas\\core\\indexes\\base.py\u001b[0m in \u001b[0;36mdrop\u001b[1;34m(self, labels, errors)\u001b[0m\n\u001b[0;32m   6659\u001b[0m         \u001b[1;32mif\u001b[0m \u001b[0mmask\u001b[0m\u001b[1;33m.\u001b[0m\u001b[0many\u001b[0m\u001b[1;33m(\u001b[0m\u001b[1;33m)\u001b[0m\u001b[1;33m:\u001b[0m\u001b[1;33m\u001b[0m\u001b[1;33m\u001b[0m\u001b[0m\n\u001b[0;32m   6660\u001b[0m             \u001b[1;32mif\u001b[0m \u001b[0merrors\u001b[0m \u001b[1;33m!=\u001b[0m \u001b[1;34m\"ignore\"\u001b[0m\u001b[1;33m:\u001b[0m\u001b[1;33m\u001b[0m\u001b[1;33m\u001b[0m\u001b[0m\n\u001b[1;32m-> 6661\u001b[1;33m                 \u001b[1;32mraise\u001b[0m \u001b[0mKeyError\u001b[0m\u001b[1;33m(\u001b[0m\u001b[1;34mf\"{list(labels[mask])} not found in axis\"\u001b[0m\u001b[1;33m)\u001b[0m\u001b[1;33m\u001b[0m\u001b[1;33m\u001b[0m\u001b[0m\n\u001b[0m\u001b[0;32m   6662\u001b[0m             \u001b[0mindexer\u001b[0m \u001b[1;33m=\u001b[0m \u001b[0mindexer\u001b[0m\u001b[1;33m[\u001b[0m\u001b[1;33m~\u001b[0m\u001b[0mmask\u001b[0m\u001b[1;33m]\u001b[0m\u001b[1;33m\u001b[0m\u001b[1;33m\u001b[0m\u001b[0m\n\u001b[0;32m   6663\u001b[0m         \u001b[1;32mreturn\u001b[0m \u001b[0mself\u001b[0m\u001b[1;33m.\u001b[0m\u001b[0mdelete\u001b[0m\u001b[1;33m(\u001b[0m\u001b[0mindexer\u001b[0m\u001b[1;33m)\u001b[0m\u001b[1;33m\u001b[0m\u001b[1;33m\u001b[0m\u001b[0m\n",
      "\u001b[1;31mKeyError\u001b[0m: \"['OFFENSE_CODE_GROUP', 'UCR_PART'] not found in axis\""
     ]
    }
   ],
   "source": [
    "crime = crime.drop(columns=['OFFENSE_CODE_GROUP','UCR_PART'])"
   ]
  },
  {
   "cell_type": "code",
   "execution_count": 6,
   "id": "d9650ea6",
   "metadata": {},
   "outputs": [
    {
     "data": {
      "application/vnd.jupyter.widget-view+json": {
       "model_id": "106375cec34e469c982bff5f32501dfc"
      },
      "text/plain": [
       "       INCIDENT_NUMBER  OFFENSE_CODE                    OFFENSE_DESCRIPTION  \\\n",
       "0            232010316          1106        FRAUD - CREDIT CARD / ATM FRAUD   \n",
       "1            232014572          2670        HARASSMENT/ CRIMINAL HARASSMENT   \n",
       "2            232016999          3207                       PROPERTY - FOUND   \n",
       "3            232017000          3207                       PROPERTY - FOUND   \n",
       "4            232011980          1109                           FRAUD - WIRE   \n",
       "...                ...           ...                                    ...   \n",
       "14522        232009411          3115                     INVESTIGATE PERSON   \n",
       "14523        232009427          3006          SICK/INJURED/MEDICAL - PERSON   \n",
       "14524        232009415          1832     SICK ASSIST - DRUG RELATED ILLNESS   \n",
       "14525        232009421          3831  M/V - LEAVING SCENE - PROPERTY DAMAGE   \n",
       "14526        232009424          3115                     INVESTIGATE PERSON   \n",
       "\n",
       "      DISTRICT REPORTING_AREA  SHOOTING        OCCURRED_ON_DATE  YEAR  MONTH  \\\n",
       "0          E13            574         0  2023-01-01 00:00:00+00  2023      1   \n",
       "1           E5            691         0  2023-01-01 00:00:00+00  2023      1   \n",
       "2          C11            355         0  2023-01-01 08:00:00+00  2023      1   \n",
       "3          C11            355         0  2023-01-01 08:00:00+00  2023      1   \n",
       "4          C11            355         0  2023-01-01 00:00:00+00  2023      1   \n",
       "...        ...            ...       ...                     ...   ...    ...   \n",
       "14522      E18                        0  2023-02-05 01:17:00+00  2023      2   \n",
       "14523       A1             77         0  2023-02-05 01:30:00+00  2023      2   \n",
       "14524       D4                        0  2023-02-05 01:51:00+00  2023      2   \n",
       "14525       A1                        0  2023-02-05 02:10:00+00  2023      2   \n",
       "14526      E13                        0  2023-02-05 03:05:00+00  2023      2   \n",
       "\n",
       "      DAY_OF_WEEK  HOUR                                             STREET  \\\n",
       "0          Sunday     0                                      WASHINGTON ST   \n",
       "1          Sunday     0                                          CENTRE ST   \n",
       "2          Sunday     8                                          GIBSON ST   \n",
       "3          Sunday     8                                          GIBSON ST   \n",
       "4          Sunday     0                                          GIBSON ST   \n",
       "...           ...   ...                                                ...   \n",
       "14522      Sunday     1                                        BISMARCK ST   \n",
       "14523      Sunday     1                                     NEW SUDBURY ST   \n",
       "14524      Sunday     1  CASTLE CT & E BERKELEY ST\\nBOSTON  MA 02118\\nU...   \n",
       "14525      Sunday     2  TREMONT ST & OAK ST W\\nBOSTON  MA 02116\\nUNITE...   \n",
       "14526      Sunday     3                                          SCHOOL ST   \n",
       "\n",
       "             Lat       Long                                  Location  \n",
       "0      42.309719 -71.104294   (42.30971856767274, -71.10429431787648)  \n",
       "1      42.287094 -71.148221   (42.28709355259107, -71.14822128377165)  \n",
       "2      42.297555 -71.059709   (42.29755532959655, -71.05970910242573)  \n",
       "3      42.297555 -71.059709   (42.29755532959655, -71.05970910242573)  \n",
       "4      42.297555 -71.059709   (42.29755532959655, -71.05970910242573)  \n",
       "...          ...        ...                                       ...  \n",
       "14522  42.269835 -71.100034    (42.2698345812142, -71.10003437244237)  \n",
       "14523  42.361839 -71.059765  (42.361838566564714, -71.05976489094158)  \n",
       "14524  42.344666 -71.068057  (42.344665952857355, -71.06805696362068)  \n",
       "14525  42.348630 -71.065540   (42.34863000132126, -71.06554001376465)  \n",
       "14526  42.313974 -71.098584   (42.31397418225611, -71.09858374923103)  \n",
       "\n",
       "[14527 rows x 15 columns]"
      ]
     },
     "metadata": {},
     "output_type": "display_data"
    }
   ],
   "source": [
    "crime"
   ]
  },
  {
   "cell_type": "code",
   "execution_count": 28,
   "id": "99d9d607",
   "metadata": {},
   "outputs": [],
   "source": [
    "mode = crime['DISTRICT'].mode()[0]\n",
    "crime['DISTRICT'] = crime['DISTRICT'].fillna(mode)"
   ]
  },
  {
   "cell_type": "code",
   "execution_count": 31,
   "id": "32b2dcee",
   "metadata": {},
   "outputs": [],
   "source": [
    "district_means = crime.groupby('DISTRICT')[['Lat', 'Long']].mean()\n",
    "crime[['Lat', 'Long']] = crime.groupby('DISTRICT')[['Lat', 'Long']].transform(lambda x: x.fillna(x.mean()))\n"
   ]
  },
  {
   "cell_type": "code",
   "execution_count": 32,
   "id": "820d6f14",
   "metadata": {},
   "outputs": [
    {
     "data": {
      "application/vnd.jupyter.widget-view+json": {
       "model_id": "a0e5949b539b466f92f2fb7d1eb718d1"
      },
      "text/plain": [
       "       INCIDENT_NUMBER  OFFENSE_CODE                    OFFENSE_DESCRIPTION  \\\n",
       "0            232010316          1106        FRAUD - CREDIT CARD / ATM FRAUD   \n",
       "1            232014572          2670        HARASSMENT/ CRIMINAL HARASSMENT   \n",
       "2            232016999          3207                       PROPERTY - FOUND   \n",
       "3            232017000          3207                       PROPERTY - FOUND   \n",
       "4            232011980          1109                           FRAUD - WIRE   \n",
       "...                ...           ...                                    ...   \n",
       "14522        232009411          3115                     INVESTIGATE PERSON   \n",
       "14523        232009427          3006          SICK/INJURED/MEDICAL - PERSON   \n",
       "14524        232009415          1832     SICK ASSIST - DRUG RELATED ILLNESS   \n",
       "14525        232009421          3831  M/V - LEAVING SCENE - PROPERTY DAMAGE   \n",
       "14526        232009424          3115                     INVESTIGATE PERSON   \n",
       "\n",
       "       DISTRICT REPORTING_AREA  SHOOTING        OCCURRED_ON_DATE  YEAR  MONTH  \\\n",
       "0             9            574         0  2023-01-01 00:00:00+00  2023      1   \n",
       "1            11            691         0  2023-01-01 00:00:00+00  2023      1   \n",
       "2             5            355         0  2023-01-01 08:00:00+00  2023      1   \n",
       "3             5            355         0  2023-01-01 08:00:00+00  2023      1   \n",
       "4             5            355         0  2023-01-01 00:00:00+00  2023      1   \n",
       "...         ...            ...       ...                     ...   ...    ...   \n",
       "14522        10                        0  2023-02-05 01:17:00+00  2023      2   \n",
       "14523         0             77         0  2023-02-05 01:30:00+00  2023      2   \n",
       "14524         8                        0  2023-02-05 01:51:00+00  2023      2   \n",
       "14525         0                        0  2023-02-05 02:10:00+00  2023      2   \n",
       "14526         9                        0  2023-02-05 03:05:00+00  2023      2   \n",
       "\n",
       "      DAY_OF_WEEK  HOUR                                             STREET  \\\n",
       "0          Sunday     0                                      WASHINGTON ST   \n",
       "1          Sunday     0                                          CENTRE ST   \n",
       "2          Sunday     8                                          GIBSON ST   \n",
       "3          Sunday     8                                          GIBSON ST   \n",
       "4          Sunday     0                                          GIBSON ST   \n",
       "...           ...   ...                                                ...   \n",
       "14522      Sunday     1                                        BISMARCK ST   \n",
       "14523      Sunday     1                                     NEW SUDBURY ST   \n",
       "14524      Sunday     1  CASTLE CT & E BERKELEY ST\\nBOSTON  MA 02118\\nU...   \n",
       "14525      Sunday     2  TREMONT ST & OAK ST W\\nBOSTON  MA 02116\\nUNITE...   \n",
       "14526      Sunday     3                                          SCHOOL ST   \n",
       "\n",
       "             Lat       Long                                  Location  \\\n",
       "0      42.309719 -71.104294   (42.30971856767274, -71.10429431787648)   \n",
       "1      42.287094 -71.148221   (42.28709355259107, -71.14822128377165)   \n",
       "2      42.297555 -71.059709   (42.29755532959655, -71.05970910242573)   \n",
       "3      42.297555 -71.059709   (42.29755532959655, -71.05970910242573)   \n",
       "4      42.297555 -71.059709   (42.29755532959655, -71.05970910242573)   \n",
       "...          ...        ...                                       ...   \n",
       "14522  42.269835 -71.100034    (42.2698345812142, -71.10003437244237)   \n",
       "14523  42.361839 -71.059765  (42.361838566564714, -71.05976489094158)   \n",
       "14524  42.344666 -71.068057  (42.344665952857355, -71.06805696362068)   \n",
       "14525  42.348630 -71.065540   (42.34863000132126, -71.06554001376465)   \n",
       "14526  42.313974 -71.098584   (42.31397418225611, -71.09858374923103)   \n",
       "\n",
       "       Location_encoded  DISTRICT_encoded  \n",
       "0                  1779                 9  \n",
       "1                   916                11  \n",
       "2                  1340                 5  \n",
       "3                  1340                 5  \n",
       "4                  1340                 5  \n",
       "...                 ...               ...  \n",
       "14522               307                10  \n",
       "14523              4363                 0  \n",
       "14524              3449                 8  \n",
       "14525              3623                 0  \n",
       "14526              1978                 9  \n",
       "\n",
       "[14527 rows x 17 columns]"
      ]
     },
     "metadata": {},
     "output_type": "display_data"
    }
   ],
   "source": [
    "crime"
   ]
  },
  {
   "cell_type": "code",
   "execution_count": null,
   "id": "bc17bec4",
   "metadata": {},
   "outputs": [],
   "source": [
    "from geopy.geocoders import Nominatim\n",
    "\n",
    "# load crime data\n",
    "\n",
    "# create geolocator object\n",
    "geolocator = Nominatim(user_agent='crime_app')\n",
    "\n",
    "# define function to get location from latitude and longitude values\n",
    "def get_location(lat, long):\n",
    "    try:\n",
    "        location = geolocator.reverse(f\"{lat}, {long}\")\n",
    "        return location.address.split(',')[-3].strip()\n",
    "    except:\n",
    "        return None\n",
    "\n",
    "# create lookup table for latitude and longitude values\n",
    "lat_long_df = crime[['Lat', 'Long']].drop_duplicates()\n",
    "lat_long_df['Location'] = lat_long_df.apply(lambda row: get_location(row['Lat'], row['Long']), axis=1)\n",
    "\n",
    "# merge lookup table with crime data to impute missing location values\n",
    "crime = pd.merge(crime, lat_long_df[['Lat', 'Long', 'Location']], on=['Lat', 'Long'], how='left')\n",
    "crime['Location'] = crime['Location_x'].fillna(crime['Location_y'])\n",
    "crime.drop(['Location_x', 'Location_y'], axis=1, inplace=True)\n"
   ]
  }
 ],
 "metadata": {
  "kernelspec": {
   "display_name": "Python 3 (ipykernel)",
   "language": "python",
   "name": "python3"
  },
  "language_info": {
   "codemirror_mode": {
    "name": "ipython",
    "version": 3
   },
   "file_extension": ".py",
   "mimetype": "text/x-python",
   "name": "python",
   "nbconvert_exporter": "python",
   "pygments_lexer": "ipython3",
   "version": "3.9.13"
  }
 },
 "nbformat": 4,
 "nbformat_minor": 5
}
